{
  "nbformat": 4,
  "nbformat_minor": 0,
  "metadata": {
    "colab": {
      "name": "GogleColab-Intro.ipynb",
      "provenance": [],
      "authorship_tag": "ABX9TyMfyM90Y/TBnNkojwpTF88n",
      "include_colab_link": true
    },
    "kernelspec": {
      "name": "python3",
      "display_name": "Python 3"
    },
    "language_info": {
      "name": "python"
    }
  },
  "cells": [
    {
      "cell_type": "markdown",
      "metadata": {
        "id": "view-in-github",
        "colab_type": "text"
      },
      "source": [
        "<a href=\"https://colab.research.google.com/github/himanshuSPaul/GoogleColab/blob/main/GogleColab_Intro.ipynb\" target=\"_parent\"><img src=\"https://colab.research.google.com/assets/colab-badge.svg\" alt=\"Open In Colab\"/></a>"
      ]
    },
    {
      "cell_type": "code",
      "execution_count": null,
      "metadata": {
        "colab": {
          "base_uri": "https://localhost:8080/"
        },
        "id": "xmfc5BYC8k-r",
        "outputId": "41ed4409-0940-40e0-ce84-001239719196"
      },
      "outputs": [
        {
          "output_type": "stream",
          "name": "stdout",
          "text": [
            "Collecting PyMuPdf\n",
            "  Downloading PyMuPDF-1.19.5-cp37-cp37m-manylinux_2_17_x86_64.manylinux2014_x86_64.whl (8.7 MB)\n",
            "\u001b[K     |████████████████████████████████| 8.7 MB 4.3 MB/s \n",
            "\u001b[?25hInstalling collected packages: PyMuPdf\n",
            "Successfully installed PyMuPdf-1.19.5\n"
          ]
        }
      ],
      "source": [
        "pip install PyMuPdf"
      ]
    },
    {
      "cell_type": "code",
      "source": [
        "print(\"hello darli\")"
      ],
      "metadata": {
        "colab": {
          "base_uri": "https://localhost:8080/"
        },
        "id": "AsaO3IcO8wEZ",
        "outputId": "fc2fa83b-33a0-415f-b4ad-a9331050b7b8"
      },
      "execution_count": null,
      "outputs": [
        {
          "output_type": "stream",
          "name": "stdout",
          "text": [
            "hello darli\n"
          ]
        }
      ]
    },
    {
      "cell_type": "code",
      "source": [
        "from google.colab import drive\n",
        "drive.mount('/content/drive')"
      ],
      "metadata": {
        "id": "tXPFvmbC9OgZ"
      },
      "execution_count": null,
      "outputs": []
    }
  ]
}